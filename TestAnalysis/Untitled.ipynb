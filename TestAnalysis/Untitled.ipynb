{
 "cells": [
  {
   "cell_type": "code",
   "execution_count": 47,
   "id": "27475ea5",
   "metadata": {},
   "outputs": [],
   "source": [
    "import pandas as pd"
   ]
  },
  {
   "cell_type": "code",
   "execution_count": 48,
   "id": "bdae6b3a",
   "metadata": {},
   "outputs": [],
   "source": [
    "#create function\n",
    "def createDateTurbidity(fileName):\n",
    "    # open file\n",
    "\n",
    "    #read file\n",
    "    df = pd.read_excel('../sensorData/'+fileName)\n",
    "    # set different ranges for turbidity\n",
    "    datesList=[]\n",
    "    dateTurbidityDict={}\n",
    "    #average out the turbidity per day\n",
    "    print(df['Date and Time'])\n",
    "    countDate=0\n",
    "\n",
    "    for row in df.itertuples():\n",
    "        if row[1][5:10] not in datesList:\n",
    "            datesList.append(row[1][5:10])\n",
    "            dateTurbidityDict[row[1][5:10]] = int(row[3])\n",
    "            countDate=1\n",
    "        else:\n",
    "            countDate+=1\n",
    "            dateTurbidityDict[row[1][5:10]] = (int(dateTurbidityDict[row[1][5:10]])*(countDate-1)+ int(row[3]))/countDate\n",
    "    return [datesList,dateTurbidityDict]\n",
    "#sort and plot graph per day"
   ]
  },
  {
   "cell_type": "code",
   "execution_count": 53,
   "id": "8760bfa1",
   "metadata": {},
   "outputs": [
    {
     "name": "stdout",
     "output_type": "stream",
     "text": [
      "0       2020-01-15 16:00:35\n",
      "1       2020-01-15 16:01:33\n",
      "2       2020-01-15 16:02:33\n",
      "3       2020-01-15 16:03:22\n",
      "4       2020-01-15 16:04:26\n",
      "               ...         \n",
      "9618    2020-01-22 16:21:01\n",
      "9619    2020-01-22 16:22:09\n",
      "9620    2020-01-22 16:23:16\n",
      "9621    2020-01-22 16:24:23\n",
      "9622    2020-01-22 16:25:32\n",
      "Name: Date and Time, Length: 9623, dtype: object\n",
      "0       2020-01-15 16:00:35\n",
      "1       2020-01-15 16:01:33\n",
      "2       2020-01-15 16:02:33\n",
      "3       2020-01-15 16:03:22\n",
      "4       2020-01-15 16:04:26\n",
      "               ...         \n",
      "9618    2020-01-22 16:21:01\n",
      "9619    2020-01-22 16:22:09\n",
      "9620    2020-01-22 16:23:16\n",
      "9621    2020-01-22 16:24:23\n",
      "9622    2020-01-22 16:25:32\n",
      "Name: Date and Time, Length: 9623, dtype: object\n"
     ]
    },
    {
     "data": {
      "image/png": "[encoded data removed]",
      "text/plain": [
       "<Figure size 432x288 with 1 Axes>"
      ]
     },
     "metadata": {
      "needs_background": "light"
     },
     "output_type": "display_data"
    }
   ],
   "source": [
    "dateTurbidityDict60CM = createDateTurbidity('Sensor60 cm.xlsx')\n",
    "dateTurbidityDict30CM = createDateTurbidity('Sensor30 cm.xlsx')\n",
    "dfGraph = pd.DataFrame({'60cm depth': list(dateTurbidityDict60CM[1].values()),'30cm depth': list(dateTurbidityDict30CM[1].values())\n",
    "                   }, index=dateTurbidityDict60CM[0])\n",
    "ax = dfGraph.plot.bar(rot=0)"
   ]
  },
  {
   "cell_type": "code",
   "execution_count": null,
   "id": "6ee69487",
   "metadata": {},
   "outputs": [],
   "source": []
  }
 ],
 "metadata": {
  "kernelspec": {
   "display_name": "Python 3",
   "language": "python",
   "name": "python3"
  },
  "language_info": {
   "codemirror_mode": {
    "name": "ipython",
    "version": 3
   },
   "file_extension": ".py",
   "mimetype": "text/x-python",
   "name": "python",
   "nbconvert_exporter": "python",
   "pygments_lexer": "ipython3",
   "version": "3.8.8"
  }
 },
 "nbformat": 4,
 "nbformat_minor": 5
}
