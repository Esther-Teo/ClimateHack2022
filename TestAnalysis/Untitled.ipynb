{
 "cells": [
  {
   "cell_type": "code",
   "execution_count": 1,
   "id": "27475ea5",
   "metadata": {},
   "outputs": [],
   "source": [
    "import pandas as pd"
   ]
  },
  {
   "cell_type": "code",
   "execution_count": 42,
   "id": "bdae6b3a",
   "metadata": {},
   "outputs": [
    {
     "name": "stdout",
     "output_type": "stream",
     "text": [
      "0       2020-01-15 16:00:35\n",
      "1       2020-01-15 16:01:33\n",
      "2       2020-01-15 16:02:33\n",
      "3       2020-01-15 16:03:22\n",
      "4       2020-01-15 16:04:26\n",
      "               ...         \n",
      "9618    2020-01-22 16:21:01\n",
      "9619    2020-01-22 16:22:09\n",
      "9620    2020-01-22 16:23:16\n",
      "9621    2020-01-22 16:24:23\n",
      "9622    2020-01-22 16:25:32\n",
      "Name: Date and Time, Length: 9623, dtype: object\n",
      "['2020-01-15', '2020-01-16', '2020-01-17', '2020-01-18', '2020-01-19', '2020-01-20', '2020-01-21', '2020-01-22']\n",
      "{'2020-01-15': 134.0, '2020-01-16': 134.00149700598803, '2020-01-17': 136.00277970813065, '2020-01-18': 140.0, '2020-01-19': 139.00069444444443, '2020-01-20': 140.00702028081122, '2020-01-21': 149.00400962309544, '2020-01-22': 152.0}\n"
     ]
    }
   ],
   "source": [
    "# open file\n",
    "\n",
    "#read file\n",
    "df = pd.read_excel('../sensorData/Sensor60 cm.xlsx')\n",
    "# set different ranges for turbidity\n",
    "datesList=[]\n",
    "dateTurbidityDict={}\n",
    "#average out the turbidity per day\n",
    "print(df['Date and Time'])\n",
    "countDate=0\n",
    "\n",
    "for row in df.itertuples():\n",
    "    if row[1][0:10] not in datesList:\n",
    "        datesList.append(row[1][0:10])\n",
    "        dateTurbidityDict[row[1][0:10]] = int(row[3])\n",
    "        countDate=1\n",
    "    else:\n",
    "        countDate+=1\n",
    "        dateTurbidityDict[row[1][0:10]] = (int(dateTurbidityDict[row[1][0:10]])*(countDate-1)+ int(row[3]))/countDate\n",
    "print(datesList)\n",
    "print(dateTurbidityDict)\n",
    "#sort and plot graph per day"
   ]
  },
  {
   "cell_type": "code",
   "execution_count": null,
   "id": "8760bfa1",
   "metadata": {},
   "outputs": [],
   "source": []
  }
 ],
 "metadata": {
  "kernelspec": {
   "display_name": "Python 3 (ipykernel)",
   "language": "python",
   "name": "python3"
  },
  "language_info": {
   "codemirror_mode": {
    "name": "ipython",
    "version": 3
   },
   "file_extension": ".py",
   "mimetype": "text/x-python",
   "name": "python",
   "nbconvert_exporter": "python",
   "pygments_lexer": "ipython3",
   "version": "3.9.7"
  }
 },
 "nbformat": 4,
 "nbformat_minor": 5
}
